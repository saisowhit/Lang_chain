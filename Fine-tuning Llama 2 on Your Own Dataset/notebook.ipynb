{
 "cells": [
  {
   "cell_type": "code",
   "execution_count": null,
   "metadata": {},
   "outputs": [],
   "source": [
    "import json\n",
    "import re\n",
    "from pprint import pprint\n",
    "import pandas as pd\n",
    "from trl import SF\n",
    "import torch\n",
    "from datasets import DataSet,load_dataset\n",
    "from peft import LoraConfig,PeftModel\n",
    "from transformers import (AutoModelForCasualLM,AutoTokenizer,BitsAndBytesConfig,TrainingArguments)\n",
    "from huggingface_hub import notebook_login\n",
    "DEVICE=\"cuda:0\" if torch.cuda.is_available() else \"cpu\"\n",
    "MODEL_NAME=\"meta-llamaa/Llama-2-7b-hf\""
   ]
  },
  {
   "cell_type": "code",
   "execution_count": null,
   "metadata": {},
   "outputs": [],
   "source": [
    "dataset=load_dataset(\"Salesforce/dialogstudio\",\"TweetSumm\")\n",
    "dataset"
   ]
  },
  {
   "cell_type": "code",
   "execution_count": null,
   "metadata": {},
   "outputs": [],
   "source": [
    "DEFAULT_SYSTEM_PROMPT=\"\"\"\n",
    "Below is a conversation between a Human and an AI. Write a summary of the conversation\n",
    "\n",
    "\"\"\".strip()\n",
    "def generate_training_prompt(conversation:str,system_prompt: str=DEFAULT_SYSTEM_PROMPT)->str:\n",
    "    return f\"\"\"### Instrucgtion: {system_prompt}\n",
    "### Input\n",
    "{conversation.strip()}\n",
    "\n",
    "## Response\n",
    "{summary}\n",
    "\"\"\".strip()\n"
   ]
  },
  {
   "cell_type": "code",
   "execution_count": null,
   "metadata": {},
   "outputs": [],
   "source": [
    "def clean_text(text):\n",
    "    text=re.sub(r\"http:S+\",\"\",text)\n",
    "    text=re.sub(r\"@[\\s]+\",\"\",text)\n",
    "    text=re.sub(r\"\\s+\",\"\",text)\n",
    "    return re.sub(r\"\\[\",\"\",text)\n",
    "\n",
    "def conversation_text(data_point):\n",
    "    text=\"\"\n",
    "    for item in data_point[\"log\"]:\n",
    "        user=clean_text(item[\"user utterance\"])\n",
    "        text+=f\"user: {user.strip()}\\n\"\n",
    "        agent=clean_text(item(\"system response\"))\n",
    "        text+=f\" agent:{agent.strip()}\\n\"\n",
    "    return text"
   ]
  },
  {
   "cell_type": "code",
   "execution_count": null,
   "metadata": {},
   "outputs": [],
   "source": [
    "def generate_text(data_point):\n",
    "    summaries=json.loads(data_point[\"original dialog info\"])[\"summaries\"][\"abstractive_summaries\"]\n",
    "    summary=summaries[0]\n",
    "    conversation_text=create_conversation_text\n",
    "    return {\n",
    "        \"conversation\": conversation_text,\n",
    "        \"summary\": summary,\n",
    "        \"text\": generate_training_prompt(conversation_text,summary)\n",
    "    }"
   ]
  },
  {
   "cell_type": "code",
   "execution_count": null,
   "metadata": {},
   "outputs": [],
   "source": [
    "example=generate_text(dataset[\"train\"][0])\n",
    "print(example[\"summary\"])\n"
   ]
  },
  {
   "cell_type": "code",
   "execution_count": null,
   "metadata": {},
   "outputs": [],
   "source": [
    "def preprocess_data(data:Dataset):\n",
    "    return(data.shuffle(seed=42).map(generate_text).remove_columns[\"original dialogid\",\"new dialog id\",\"original dialog info\",\"log\",\"prompt\"])"
   ]
  },
  {
   "cell_type": "code",
   "execution_count": null,
   "metadata": {},
   "outputs": [],
   "source": [
    "dataset[\"train\"]=process_dataset[\"train\"]\n",
    "dataset[\"validation\"]=process_dataset(dataset[\"validation\"])\n",
    "dataset[\"test\"]=preprocess_dataset(dataset[\"test\"])"
   ]
  },
  {
   "cell_type": "code",
   "execution_count": null,
   "metadata": {},
   "outputs": [],
   "source": [
    "DataSet"
   ]
  },
  {
   "cell_type": "code",
   "execution_count": null,
   "metadata": {},
   "outputs": [],
   "source": [
    "example=generate_text(dataset[\"train\"][0])\n",
    "print(example[\"summary\"])\n",
    "print(example[\"text\"])"
   ]
  }
 ],
 "metadata": {
  "language_info": {
   "name": "python"
  }
 },
 "nbformat": 4,
 "nbformat_minor": 2
}
