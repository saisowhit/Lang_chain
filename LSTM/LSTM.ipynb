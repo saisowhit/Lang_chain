{
 "cells": [
  {
   "cell_type": "code",
   "execution_count": null,
   "metadata": {},
   "outputs": [],
   "source": [
    "import numpy as np\n",
    "from tensorflow.keras.models impoer Sequential\n",
    "from tensorflow.keras.models import LSTM\n",
    "from tensorflow.keras.models import Dense\n",
    "from tensorflow.keras.layers import Flatten"
   ]
  },
  {
   "cell_type": "code",
   "execution_count": null,
   "metadata": {},
   "outputs": [],
   "source": [
    "def prepare_data(timeseries_data,n_features):\n",
    "    x,y=[],[]\n",
    "    for i in range(len(timeseries_data)):\n",
    "        end_ix=i+n_features\n",
    "        if end_ix>len(timeseries_data):\n",
    "            break\n",
    "        seq_x,seq_y=timeseries_data[i:end_ix],timeseries_data[end_ix]\n",
    "        x.append(seq_x)\n",
    "        y.append(seq_y)\n",
    "    return np.array(x),np.array(y)\n",
    "        "
   ]
  },
  {
   "cell_type": "code",
   "execution_count": null,
   "metadata": {},
   "outputs": [],
   "source": [
    "timeseries_data=[110,124,123,124,111]\n",
    "n_features=3\n",
    "x,y=prepare_data(timeseries_data,n_features)\n"
   ]
  },
  {
   "cell_type": "code",
   "execution_count": null,
   "metadata": {},
   "outputs": [],
   "source": [
    "n_features=1\n",
    "x=x.reshape((x.shape[0],x.shape[1],n_features))"
   ]
  },
  {
   "cell_type": "code",
   "execution_count": null,
   "metadata": {},
   "outputs": [],
   "source": [
    "## Building LSTM Model"
   ]
  },
  {
   "cell_type": "code",
   "execution_count": null,
   "metadata": {},
   "outputs": [],
   "source": [
    "model=Sequential()\n",
    "model.add(LSTM(50,activation='relu',return_sequences=True,input_shape=(n_step,n_features)))\n",
    "model.add(LSTM(50,activation='relu'))\n",
    "model.add(Dense(1))\n",
    "model.compile(optimizer='adam',loss='mse')\n",
    "model.fit(x_train,y_train)"
   ]
  },
  {
   "cell_type": "code",
   "execution_count": null,
   "metadata": {},
   "outputs": [],
   "source": [
    "## Predicting for the next 10 days"
   ]
  },
  {
   "cell_type": "code",
   "execution_count": null,
   "metadata": {},
   "outputs": [],
   "source": [
    "x_input=array([187,196,216])\n",
    "temp_input=list(x_input)\n",
    "lst_output=[]\n",
    "while(i<10):\n",
    "    if(len(temp_input)>3):\n",
    "        x_input=array(temp_input[1:])\n",
    "        print(\"{} day input {}\".format(i,x_input))\n",
    "        x_input=x_input.reshape(1,n_features,n_steps)\n",
    "        yhat=model.predict(x_input,verbose=0)\n",
    "        print(\"{} day output{}\".format(i,yhat))\n",
    "        temp_input.append(yhat[0][0])\n",
    "        temp_input=temp_input[1:]\n",
    "        lst_output.append(yhat[0][0])\n",
    "    else:\n",
    "        x_input=x_input.reshape((1,n_features,n_steps))\n",
    "        yhat=model.predict(x_input,verbose=0)\n",
    "        print(yhat[0])\n",
    "        temp_input.append(yhat[0][0])\n",
    "        lst_output.append(yhat[0][0])\n",
    "        i=i+1"
   ]
  },
  {
   "cell_type": "code",
   "execution_count": null,
   "metadata": {},
   "outputs": [],
   "source": [
    "## visualizing the output"
   ]
  },
  {
   "cell_type": "code",
   "execution_count": null,
   "metadata": {},
   "outputs": [],
   "source": [
    "import matplotlib.pyplot as plt\n",
    "day_new=np.arange(1,10)\n",
    "day_pred=np.arange(10,20)\n",
    "plt.plot(day_new,timeseries_data)\n",
    "plt.plot(day_pred,lst_output)"
   ]
  }
 ],
 "metadata": {
  "language_info": {
   "name": "python"
  }
 },
 "nbformat": 4,
 "nbformat_minor": 2
}
